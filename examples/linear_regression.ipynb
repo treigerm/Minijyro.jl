{
 "cells": [
  {
   "cell_type": "code",
   "execution_count": 1,
   "metadata": {},
   "outputs": [
    {
     "name": "stderr",
     "output_type": "stream",
     "text": [
      "┌ Info: Precompiling Distributions [31c24e10-a181-5473-b8eb-7969acd0382f]\n",
      "└ @ Base loading.jl:1273\n"
     ]
    }
   ],
   "source": [
    "using Distributions\n",
    "using LinearAlgebra: I # Identity matrix\n",
    "using Random"
   ]
  },
  {
   "cell_type": "code",
   "execution_count": 2,
   "metadata": {},
   "outputs": [
    {
     "name": "stderr",
     "output_type": "stream",
     "text": [
      "┌ Info: Precompiling Minijyro [9d213a20-5ebd-4614-9657-39d6e04a91ad]\n",
      "└ @ Base loading.jl:1273\n"
     ]
    }
   ],
   "source": [
    "using Minijyro"
   ]
  },
  {
   "cell_type": "code",
   "execution_count": 3,
   "metadata": {},
   "outputs": [],
   "source": [
    "Random.seed!(42);"
   ]
  },
  {
   "cell_type": "code",
   "execution_count": 4,
   "metadata": {},
   "outputs": [
    {
     "data": {
      "text/plain": [
       "100-element Array{Float64,1}:\n",
       "  1.0235913068561577 \n",
       "  0.08385777432293692\n",
       " -4.308173396701216  \n",
       "  2.7129297759417925 \n",
       " -0.0809499796659047 \n",
       " -1.376423448968348  \n",
       "  1.8119869295043831 \n",
       "  1.3159561305537186 \n",
       "  2.657618466862049  \n",
       "  0.23432779418440244\n",
       " -1.9654771482868796 \n",
       "  0.3811577120160844 \n",
       " -1.6134681801622504 \n",
       "  ⋮                  \n",
       " -0.2024907165043528 \n",
       "  2.017447960405975  \n",
       " -0.5931766356407864 \n",
       " -2.252035289252026  \n",
       " -2.8696858313769686 \n",
       " -1.0867011599062892 \n",
       " -1.5230736467435166 \n",
       "  0.3024284127727227 \n",
       "  2.657342032084148  \n",
       "  0.5588088205081566 \n",
       " -1.9129467850745685 \n",
       "  1.5090597313564613 "
      ]
     },
     "execution_count": 4,
     "metadata": {},
     "output_type": "execute_result"
    }
   ],
   "source": [
    "N = 100\n",
    "D = 5\n",
    "true_w = randn(D)\n",
    "X = randn(N, D)\n",
    "noise = 0.1 * randn(N)\n",
    "\n",
    "y_obs = X * true_w + noise"
   ]
  },
  {
   "cell_type": "code",
   "execution_count": 5,
   "metadata": {},
   "outputs": [
    {
     "data": {
      "text/plain": [
       "MinijyroModel(AbstractHandler[], ##model#423)"
      ]
     },
     "execution_count": 5,
     "metadata": {},
     "output_type": "execute_result"
    }
   ],
   "source": [
    "@jyro function model(xs)\n",
    "    D = size(xs)[2]\n",
    "    w ~ MvNormal(zeros(D), I)\n",
    "    y ~ MvNormal(xs * w, 0.1*I)\n",
    "end"
   ]
  },
  {
   "cell_type": "code",
   "execution_count": 6,
   "metadata": {
    "scrolled": true
   },
   "outputs": [],
   "source": [
    "cond_model = condition(model, Dict(:y => y_obs));"
   ]
  },
  {
   "cell_type": "code",
   "execution_count": 9,
   "metadata": {},
   "outputs": [
    {
     "name": "stderr",
     "output_type": "stream",
     "text": [
      "\u001b[32mSampling 29%|█████████                      |  ETA: 0:00:00\u001b[39m\n",
      "\u001b[34m  iterations:                    290\u001b[39m\n",
      "\u001b[34m  n_steps:                       3\u001b[39m\n",
      "\u001b[34m  is_accept:                     true\u001b[39m\n",
      "\u001b[34m  acceptance_rate:               0.8540911363691283\u001b[39m\n",
      "\u001b[34m  log_density:                   10.017653929083414\u001b[39m\n",
      "\u001b[34m  hamiltonian_energy:            -8.018643753360607\u001b[39m\n",
      "\u001b[34m  hamiltonian_energy_error:      0.05807618891460109\u001b[39m\n",
      "\u001b[34m  max_hamiltonian_energy_error:  0.4801422848019934\u001b[39m\n",
      "\u001b[34m  tree_depth:                    2\u001b[39m\n",
      "\u001b[34m  numerical_error:               false\u001b[39m\n",
      "\u001b[34m  step_size:                     0.997729579720547\u001b[39m\n",
      "\u001b[34m  nom_step_size:                 0.997729579720547\u001b[39m\n",
      "\u001b[34m  is_adapt:                      true\u001b[39m\n",
      "\u001b[A4m  mass_matrix:                   DiagEuclideanMetric([0.0009230415179876522, 0.0 ...])\u001b[39m\n",
      "\n",
      "\n",
      "\n",
      "\n",
      "\n",
      "\n",
      "\n",
      "\n",
      "\n",
      "\n",
      "\n",
      "\n",
      "\n",
      "\u001b[32mSampling 76%|███████████████████████▌       |  ETA: 0:00:00\u001b[39m\n",
      "\u001b[34m  iterations:                    760\u001b[39m\n",
      "\u001b[34m  n_steps:                       3\u001b[39m\n",
      "\u001b[34m  is_accept:                     true\u001b[39m\n",
      "\u001b[34m  acceptance_rate:               0.6641827154112794\u001b[39m\n",
      "\u001b[34m  log_density:                   7.8959435615066464\u001b[39m\n",
      "\u001b[34m  hamiltonian_energy:            -3.5993571028605995\u001b[39m\n",
      "\u001b[34m  hamiltonian_energy_error:      0.20126608409849656\u001b[39m\n",
      "\u001b[34m  max_hamiltonian_energy_error:  0.8403246736332961\u001b[39m\n",
      "\u001b[34m  tree_depth:                    2\u001b[39m\n",
      "\u001b[34m  numerical_error:               false\u001b[39m\n",
      "\u001b[34m  step_size:                     0.8042283047885124\u001b[39m\n",
      "\u001b[34m  nom_step_size:                 0.8042283047885124\u001b[39m\n",
      "\u001b[34m  is_adapt:                      true\u001b[39m\n",
      "\u001b[A4m  mass_matrix:                   DiagEuclideanMetric([0.0010299718662244613, 0.0 ...])\u001b[39m\n",
      "\n",
      "\n",
      "\n",
      "\n",
      "\n",
      "\n",
      "\n",
      "\n",
      "\n",
      "\n",
      "\n",
      "\n",
      "\n",
      "\u001b[32mSampling100%|███████████████████████████████| Time: 0:00:00\u001b[39m\n",
      "\u001b[34m  iterations:                    1000\u001b[39m\n",
      "\u001b[34m  n_steps:                       1\u001b[39m\n",
      "\u001b[34m  is_accept:                     true\u001b[39m\n",
      "\u001b[34m  acceptance_rate:               0.33634148674226194\u001b[39m\n",
      "\u001b[34m  log_density:                   10.628187962389534\u001b[39m\n",
      "\u001b[34m  hamiltonian_energy:            -9.5685411586568\u001b[39m\n",
      "\u001b[34m  hamiltonian_energy_error:      0.0\u001b[39m\n",
      "\u001b[34m  max_hamiltonian_energy_error:  1.0896283055421208\u001b[39m\n",
      "\u001b[34m  tree_depth:                    1\u001b[39m\n",
      "\u001b[34m  numerical_error:               false\u001b[39m\n",
      "\u001b[34m  step_size:                     1.7034158226072025\u001b[39m\n",
      "\u001b[34m  nom_step_size:                 1.7034158226072025\u001b[39m\n",
      "\u001b[34m  is_adapt:                      true\u001b[39m\n",
      "\u001b[34m  mass_matrix:                   DiagEuclideanMetric([0.0008951093434835893, 0.0 ...])\u001b[39m\n",
      "┌ Info: Finished 1000 sampling steps for 1 chains in 0.264675159 (s)\n",
      "│   h = Hamiltonian(metric=DiagEuclideanMetric([0.0008951093434835893, 0.0 ...]))\n",
      "│   τ = NUTS{MultinomialTS,Generalised}(integrator=Leapfrog(ϵ=0.792), max_depth=10), Δ_max=1000.0)\n",
      "│   EBFMI_est = 0.3004125590117946\n",
      "│   average_acceptance_rate = 0.7920676846735099\n",
      "└ @ AdvancedHMC /Users/reichelt/.julia/packages/AdvancedHMC/haUrH/src/sampler.jl:178\n"
     ]
    }
   ],
   "source": [
    "samples, stats = nuts(cond_model, (X,), 1000);"
   ]
  },
  {
   "cell_type": "code",
   "execution_count": 10,
   "metadata": {},
   "outputs": [
    {
     "data": {
      "text/plain": [
       "5-element Array{Float64,1}:\n",
       " 0.005861810970364201\n",
       " 0.022106747953408445\n",
       " 0.007951089798231021\n",
       " 0.004934180581878944\n",
       " 0.004076047873991406"
      ]
     },
     "execution_count": 10,
     "metadata": {},
     "output_type": "execute_result"
    }
   ],
   "source": [
    "abs.(true_w - mean(samples))"
   ]
  },
  {
   "cell_type": "code",
   "execution_count": null,
   "metadata": {},
   "outputs": [],
   "source": []
  }
 ],
 "metadata": {
  "kernelspec": {
   "display_name": "Julia 1.3.1",
   "language": "julia",
   "name": "julia-1.3"
  },
  "language_info": {
   "file_extension": ".jl",
   "mimetype": "application/julia",
   "name": "julia",
   "version": "1.3.1"
  }
 },
 "nbformat": 4,
 "nbformat_minor": 2
}
