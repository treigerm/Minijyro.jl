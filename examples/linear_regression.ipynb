{
 "cells": [
  {
   "cell_type": "code",
   "execution_count": 1,
   "metadata": {},
   "outputs": [],
   "source": [
    "using Distributions\n",
    "using LinearAlgebra: I # Identity matrix\n",
    "using Random"
   ]
  },
  {
   "cell_type": "code",
   "execution_count": 2,
   "metadata": {},
   "outputs": [],
   "source": [
    "using Minijyro"
   ]
  },
  {
   "cell_type": "code",
   "execution_count": 3,
   "metadata": {},
   "outputs": [],
   "source": [
    "Random.seed!(42);"
   ]
  },
  {
   "cell_type": "code",
   "execution_count": 4,
   "metadata": {},
   "outputs": [
    {
     "data": {
      "text/plain": [
       "100-element Array{Float64,1}:\n",
       "  1.0235913068561577 \n",
       "  0.08385777432293692\n",
       " -4.308173396701216  \n",
       "  2.7129297759417925 \n",
       " -0.0809499796659047 \n",
       " -1.376423448968348  \n",
       "  1.8119869295043831 \n",
       "  1.3159561305537186 \n",
       "  2.657618466862049  \n",
       "  0.23432779418440244\n",
       " -1.9654771482868796 \n",
       "  0.3811577120160844 \n",
       " -1.6134681801622504 \n",
       "  ⋮                  \n",
       " -0.2024907165043528 \n",
       "  2.017447960405975  \n",
       " -0.5931766356407864 \n",
       " -2.252035289252026  \n",
       " -2.8696858313769686 \n",
       " -1.0867011599062892 \n",
       " -1.5230736467435166 \n",
       "  0.3024284127727227 \n",
       "  2.657342032084148  \n",
       "  0.5588088205081566 \n",
       " -1.9129467850745685 \n",
       "  1.5090597313564613 "
      ]
     },
     "execution_count": 4,
     "metadata": {},
     "output_type": "execute_result"
    }
   ],
   "source": [
    "N = 100\n",
    "D = 5\n",
    "true_w = randn(D)\n",
    "X = randn(N, D)\n",
    "noise = 0.1 * randn(N)\n",
    "\n",
    "y_obs = X * true_w + noise"
   ]
  },
  {
   "cell_type": "code",
   "execution_count": 5,
   "metadata": {},
   "outputs": [
    {
     "data": {
      "text/plain": [
       "MinijyroModel(AbstractHandler[], ##model#423)"
      ]
     },
     "execution_count": 5,
     "metadata": {},
     "output_type": "execute_result"
    }
   ],
   "source": [
    "@jyro function model(xs)\n",
    "    D = size(xs)[2]\n",
    "    w ~ MvNormal(D, 1)\n",
    "    y ~ MvNormal(xs * w, 0.1*I)\n",
    "end"
   ]
  },
  {
   "cell_type": "code",
   "execution_count": 6,
   "metadata": {
    "scrolled": true
   },
   "outputs": [],
   "source": [
    "condition!(model, Dict(:y => y_obs));"
   ]
  },
  {
   "cell_type": "code",
   "execution_count": 7,
   "metadata": {},
   "outputs": [
    {
     "name": "stderr",
     "output_type": "stream",
     "text": [
      "┌ Info: Finished 1000 sampling steps for 1 chains in 0.19542739 (s)\n",
      "│   h = Hamiltonian(metric=UnitEuclideanMetric([1.0, 1.0, 1.0, 1.0, 1.0]))\n",
      "│   τ = StaticTrajectory{EndPointTS}(integrator=Leapfrog(ϵ=0.05), λ=10))\n",
      "│   EBFMI_est = 0.37146046520466286\n",
      "│   average_acceptance_rate = 0.22693403419965857\n",
      "└ @ AdvancedHMC /Users/reichelt/.julia/packages/AdvancedHMC/haUrH/src/sampler.jl:178\n"
     ]
    }
   ],
   "source": [
    "samples, stats = hmc(model, 0.05, 10, 1000, (X,));"
   ]
  },
  {
   "cell_type": "code",
   "execution_count": null,
   "metadata": {},
   "outputs": [],
   "source": []
  }
 ],
 "metadata": {
  "kernelspec": {
   "display_name": "Julia 1.3.1",
   "language": "julia",
   "name": "julia-1.3"
  },
  "language_info": {
   "file_extension": ".jl",
   "mimetype": "application/julia",
   "name": "julia",
   "version": "1.3.1"
  }
 },
 "nbformat": 4,
 "nbformat_minor": 2
}
